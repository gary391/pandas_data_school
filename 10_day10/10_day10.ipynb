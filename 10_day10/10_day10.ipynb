{
 "cells": [
  {
   "metadata": {},
   "cell_type": "markdown",
   "source": [
    "Day11 - How do I use string methods in pandas?\n",
    "\n",
    "https://pandas.pydata.org/docs/reference/series.html\n",
    "https://pandas.pydata.org/docs/reference/series.html#string-handling"
   ],
   "id": "a9c56f9599e53ece"
  },
  {
   "cell_type": "code",
   "id": "initial_id",
   "metadata": {
    "collapsed": true,
    "ExecuteTime": {
     "end_time": "2024-10-15T03:25:18.007287Z",
     "start_time": "2024-10-15T03:25:17.994936Z"
    }
   },
   "source": "'hello'.upper()",
   "outputs": [
    {
     "data": {
      "text/plain": [
       "'HELLO'"
      ]
     },
     "execution_count": 1,
     "metadata": {},
     "output_type": "execute_result"
    }
   ],
   "execution_count": 1
  },
  {
   "metadata": {
    "ExecuteTime": {
     "end_time": "2024-10-15T03:25:39.085681Z",
     "start_time": "2024-10-15T03:25:38.004858Z"
    }
   },
   "cell_type": "code",
   "source": "import pandas as pd",
   "id": "a354c5318b45073f",
   "outputs": [],
   "execution_count": 2
  },
  {
   "metadata": {
    "ExecuteTime": {
     "end_time": "2024-10-15T03:26:48.030066Z",
     "start_time": "2024-10-15T03:26:47.668737Z"
    }
   },
   "cell_type": "code",
   "source": "orders = pd.read_table('https://bit.ly/chiporders')",
   "id": "fe99c8878d963f54",
   "outputs": [],
   "execution_count": 5
  },
  {
   "metadata": {
    "ExecuteTime": {
     "end_time": "2024-10-15T03:26:49.721058Z",
     "start_time": "2024-10-15T03:26:49.709779Z"
    }
   },
   "cell_type": "code",
   "source": "orders.head()",
   "id": "7393e3a81db640ac",
   "outputs": [
    {
     "data": {
      "text/plain": [
       "   order_id  quantity                              item_name  \\\n",
       "0         1         1           Chips and Fresh Tomato Salsa   \n",
       "1         1         1                                   Izze   \n",
       "2         1         1                       Nantucket Nectar   \n",
       "3         1         1  Chips and Tomatillo-Green Chili Salsa   \n",
       "4         2         2                           Chicken Bowl   \n",
       "\n",
       "                                  choice_description item_price  \n",
       "0                                                NaN     $2.39   \n",
       "1                                       [Clementine]     $3.39   \n",
       "2                                            [Apple]     $3.39   \n",
       "3                                                NaN     $2.39   \n",
       "4  [Tomatillo-Red Chili Salsa (Hot), [Black Beans...    $16.98   "
      ],
      "text/html": [
       "<div>\n",
       "<style scoped>\n",
       "    .dataframe tbody tr th:only-of-type {\n",
       "        vertical-align: middle;\n",
       "    }\n",
       "\n",
       "    .dataframe tbody tr th {\n",
       "        vertical-align: top;\n",
       "    }\n",
       "\n",
       "    .dataframe thead th {\n",
       "        text-align: right;\n",
       "    }\n",
       "</style>\n",
       "<table border=\"1\" class=\"dataframe\">\n",
       "  <thead>\n",
       "    <tr style=\"text-align: right;\">\n",
       "      <th></th>\n",
       "      <th>order_id</th>\n",
       "      <th>quantity</th>\n",
       "      <th>item_name</th>\n",
       "      <th>choice_description</th>\n",
       "      <th>item_price</th>\n",
       "    </tr>\n",
       "  </thead>\n",
       "  <tbody>\n",
       "    <tr>\n",
       "      <th>0</th>\n",
       "      <td>1</td>\n",
       "      <td>1</td>\n",
       "      <td>Chips and Fresh Tomato Salsa</td>\n",
       "      <td>NaN</td>\n",
       "      <td>$2.39</td>\n",
       "    </tr>\n",
       "    <tr>\n",
       "      <th>1</th>\n",
       "      <td>1</td>\n",
       "      <td>1</td>\n",
       "      <td>Izze</td>\n",
       "      <td>[Clementine]</td>\n",
       "      <td>$3.39</td>\n",
       "    </tr>\n",
       "    <tr>\n",
       "      <th>2</th>\n",
       "      <td>1</td>\n",
       "      <td>1</td>\n",
       "      <td>Nantucket Nectar</td>\n",
       "      <td>[Apple]</td>\n",
       "      <td>$3.39</td>\n",
       "    </tr>\n",
       "    <tr>\n",
       "      <th>3</th>\n",
       "      <td>1</td>\n",
       "      <td>1</td>\n",
       "      <td>Chips and Tomatillo-Green Chili Salsa</td>\n",
       "      <td>NaN</td>\n",
       "      <td>$2.39</td>\n",
       "    </tr>\n",
       "    <tr>\n",
       "      <th>4</th>\n",
       "      <td>2</td>\n",
       "      <td>2</td>\n",
       "      <td>Chicken Bowl</td>\n",
       "      <td>[Tomatillo-Red Chili Salsa (Hot), [Black Beans...</td>\n",
       "      <td>$16.98</td>\n",
       "    </tr>\n",
       "  </tbody>\n",
       "</table>\n",
       "</div>"
      ]
     },
     "execution_count": 6,
     "metadata": {},
     "output_type": "execute_result"
    }
   ],
   "execution_count": 6
  },
  {
   "metadata": {},
   "cell_type": "markdown",
   "source": "Now if you want to make the item_name to a upper case. ",
   "id": "db95fa4c1f27a027"
  },
  {
   "metadata": {
    "ExecuteTime": {
     "end_time": "2024-10-15T03:29:11.589278Z",
     "start_time": "2024-10-15T03:29:11.578315Z"
    }
   },
   "cell_type": "code",
   "source": "orders.item_name.str.upper()",
   "id": "fb114262d720f97b",
   "outputs": [
    {
     "data": {
      "text/plain": [
       "0                CHIPS AND FRESH TOMATO SALSA\n",
       "1                                        IZZE\n",
       "2                            NANTUCKET NECTAR\n",
       "3       CHIPS AND TOMATILLO-GREEN CHILI SALSA\n",
       "4                                CHICKEN BOWL\n",
       "                        ...                  \n",
       "4617                            STEAK BURRITO\n",
       "4618                            STEAK BURRITO\n",
       "4619                       CHICKEN SALAD BOWL\n",
       "4620                       CHICKEN SALAD BOWL\n",
       "4621                       CHICKEN SALAD BOWL\n",
       "Name: item_name, Length: 4622, dtype: object"
      ]
     },
     "execution_count": 9,
     "metadata": {},
     "output_type": "execute_result"
    }
   ],
   "execution_count": 9
  },
  {
   "metadata": {
    "ExecuteTime": {
     "end_time": "2024-10-15T03:31:58.786066Z",
     "start_time": "2024-10-15T03:31:58.773056Z"
    }
   },
   "cell_type": "code",
   "source": "orders[orders.item_name.str.contains('Chicken')] # This will return rows that only has chicken in them.",
   "id": "7e03b2c3f3fa0a67",
   "outputs": [
    {
     "data": {
      "text/plain": [
       "      order_id  quantity             item_name  \\\n",
       "4            2         2          Chicken Bowl   \n",
       "5            3         1          Chicken Bowl   \n",
       "11           6         1  Chicken Crispy Tacos   \n",
       "12           6         1    Chicken Soft Tacos   \n",
       "13           7         1          Chicken Bowl   \n",
       "...        ...       ...                   ...   \n",
       "4604      1828         1          Chicken Bowl   \n",
       "4615      1832         1    Chicken Soft Tacos   \n",
       "4619      1834         1    Chicken Salad Bowl   \n",
       "4620      1834         1    Chicken Salad Bowl   \n",
       "4621      1834         1    Chicken Salad Bowl   \n",
       "\n",
       "                                     choice_description item_price  \n",
       "4     [Tomatillo-Red Chili Salsa (Hot), [Black Beans...    $16.98   \n",
       "5     [Fresh Tomato Salsa (Mild), [Rice, Cheese, Sou...    $10.98   \n",
       "11    [Roasted Chili Corn Salsa, [Fajita Vegetables,...     $8.75   \n",
       "12    [Roasted Chili Corn Salsa, [Rice, Black Beans,...     $8.75   \n",
       "13    [Fresh Tomato Salsa, [Fajita Vegetables, Rice,...    $11.25   \n",
       "...                                                 ...        ...  \n",
       "4604  [Fresh Tomato Salsa, [Rice, Black Beans, Chees...     $8.75   \n",
       "4615   [Fresh Tomato Salsa, [Rice, Cheese, Sour Cream]]     $8.75   \n",
       "4619  [Fresh Tomato Salsa, [Fajita Vegetables, Pinto...    $11.25   \n",
       "4620  [Fresh Tomato Salsa, [Fajita Vegetables, Lettu...     $8.75   \n",
       "4621  [Fresh Tomato Salsa, [Fajita Vegetables, Pinto...     $8.75   \n",
       "\n",
       "[1560 rows x 5 columns]"
      ],
      "text/html": [
       "<div>\n",
       "<style scoped>\n",
       "    .dataframe tbody tr th:only-of-type {\n",
       "        vertical-align: middle;\n",
       "    }\n",
       "\n",
       "    .dataframe tbody tr th {\n",
       "        vertical-align: top;\n",
       "    }\n",
       "\n",
       "    .dataframe thead th {\n",
       "        text-align: right;\n",
       "    }\n",
       "</style>\n",
       "<table border=\"1\" class=\"dataframe\">\n",
       "  <thead>\n",
       "    <tr style=\"text-align: right;\">\n",
       "      <th></th>\n",
       "      <th>order_id</th>\n",
       "      <th>quantity</th>\n",
       "      <th>item_name</th>\n",
       "      <th>choice_description</th>\n",
       "      <th>item_price</th>\n",
       "    </tr>\n",
       "  </thead>\n",
       "  <tbody>\n",
       "    <tr>\n",
       "      <th>4</th>\n",
       "      <td>2</td>\n",
       "      <td>2</td>\n",
       "      <td>Chicken Bowl</td>\n",
       "      <td>[Tomatillo-Red Chili Salsa (Hot), [Black Beans...</td>\n",
       "      <td>$16.98</td>\n",
       "    </tr>\n",
       "    <tr>\n",
       "      <th>5</th>\n",
       "      <td>3</td>\n",
       "      <td>1</td>\n",
       "      <td>Chicken Bowl</td>\n",
       "      <td>[Fresh Tomato Salsa (Mild), [Rice, Cheese, Sou...</td>\n",
       "      <td>$10.98</td>\n",
       "    </tr>\n",
       "    <tr>\n",
       "      <th>11</th>\n",
       "      <td>6</td>\n",
       "      <td>1</td>\n",
       "      <td>Chicken Crispy Tacos</td>\n",
       "      <td>[Roasted Chili Corn Salsa, [Fajita Vegetables,...</td>\n",
       "      <td>$8.75</td>\n",
       "    </tr>\n",
       "    <tr>\n",
       "      <th>12</th>\n",
       "      <td>6</td>\n",
       "      <td>1</td>\n",
       "      <td>Chicken Soft Tacos</td>\n",
       "      <td>[Roasted Chili Corn Salsa, [Rice, Black Beans,...</td>\n",
       "      <td>$8.75</td>\n",
       "    </tr>\n",
       "    <tr>\n",
       "      <th>13</th>\n",
       "      <td>7</td>\n",
       "      <td>1</td>\n",
       "      <td>Chicken Bowl</td>\n",
       "      <td>[Fresh Tomato Salsa, [Fajita Vegetables, Rice,...</td>\n",
       "      <td>$11.25</td>\n",
       "    </tr>\n",
       "    <tr>\n",
       "      <th>...</th>\n",
       "      <td>...</td>\n",
       "      <td>...</td>\n",
       "      <td>...</td>\n",
       "      <td>...</td>\n",
       "      <td>...</td>\n",
       "    </tr>\n",
       "    <tr>\n",
       "      <th>4604</th>\n",
       "      <td>1828</td>\n",
       "      <td>1</td>\n",
       "      <td>Chicken Bowl</td>\n",
       "      <td>[Fresh Tomato Salsa, [Rice, Black Beans, Chees...</td>\n",
       "      <td>$8.75</td>\n",
       "    </tr>\n",
       "    <tr>\n",
       "      <th>4615</th>\n",
       "      <td>1832</td>\n",
       "      <td>1</td>\n",
       "      <td>Chicken Soft Tacos</td>\n",
       "      <td>[Fresh Tomato Salsa, [Rice, Cheese, Sour Cream]]</td>\n",
       "      <td>$8.75</td>\n",
       "    </tr>\n",
       "    <tr>\n",
       "      <th>4619</th>\n",
       "      <td>1834</td>\n",
       "      <td>1</td>\n",
       "      <td>Chicken Salad Bowl</td>\n",
       "      <td>[Fresh Tomato Salsa, [Fajita Vegetables, Pinto...</td>\n",
       "      <td>$11.25</td>\n",
       "    </tr>\n",
       "    <tr>\n",
       "      <th>4620</th>\n",
       "      <td>1834</td>\n",
       "      <td>1</td>\n",
       "      <td>Chicken Salad Bowl</td>\n",
       "      <td>[Fresh Tomato Salsa, [Fajita Vegetables, Lettu...</td>\n",
       "      <td>$8.75</td>\n",
       "    </tr>\n",
       "    <tr>\n",
       "      <th>4621</th>\n",
       "      <td>1834</td>\n",
       "      <td>1</td>\n",
       "      <td>Chicken Salad Bowl</td>\n",
       "      <td>[Fresh Tomato Salsa, [Fajita Vegetables, Pinto...</td>\n",
       "      <td>$8.75</td>\n",
       "    </tr>\n",
       "  </tbody>\n",
       "</table>\n",
       "<p>1560 rows × 5 columns</p>\n",
       "</div>"
      ]
     },
     "execution_count": 11,
     "metadata": {},
     "output_type": "execute_result"
    }
   ],
   "execution_count": 11
  },
  {
   "metadata": {},
   "cell_type": "markdown",
   "source": "How can you remove [] from the fields in the choice descriptions?  Here we are using chaining as first replace returns a dataframe series data. Additionally the string operators also except regular expressions. when using a regular expression, the pattern should be passed in as a raw string (indicated by the \"r\").",
   "id": "af47015e18ba2104"
  },
  {
   "metadata": {
    "ExecuteTime": {
     "end_time": "2024-10-15T03:42:15.786662Z",
     "start_time": "2024-10-15T03:42:15.778167Z"
    }
   },
   "cell_type": "code",
   "source": "orders.choice_description.str.replace('[', '').str.replace(']', '')",
   "id": "b20e5161fa5da2f9",
   "outputs": [
    {
     "data": {
      "text/plain": [
       "0                                                     NaN\n",
       "1                                             Clementine]\n",
       "2                                                  Apple]\n",
       "3                                                     NaN\n",
       "4       Tomatillo-Red Chili Salsa (Hot), Black Beans, ...\n",
       "                              ...                        \n",
       "4617    Fresh Tomato Salsa, Rice, Black Beans, Sour Cr...\n",
       "4618    Fresh Tomato Salsa, Rice, Sour Cream, Cheese, ...\n",
       "4619    Fresh Tomato Salsa, Fajita Vegetables, Pinto B...\n",
       "4620     Fresh Tomato Salsa, Fajita Vegetables, Lettuce]]\n",
       "4621    Fresh Tomato Salsa, Fajita Vegetables, Pinto B...\n",
       "Name: choice_description, Length: 4622, dtype: object"
      ]
     },
     "execution_count": 16,
     "metadata": {},
     "output_type": "execute_result"
    }
   ],
   "execution_count": 16
  },
  {
   "metadata": {
    "ExecuteTime": {
     "end_time": "2024-10-15T03:50:02.346242Z",
     "start_time": "2024-10-15T03:50:02.338403Z"
    }
   },
   "cell_type": "code",
   "source": "orders.choice_description.str.replace(r'[\\[\\]]', '')",
   "id": "ade2583236666b",
   "outputs": [
    {
     "data": {
      "text/plain": [
       "0                                                     NaN\n",
       "1                                            [Clementine]\n",
       "2                                                 [Apple]\n",
       "3                                                     NaN\n",
       "4       [Tomatillo-Red Chili Salsa (Hot), [Black Beans...\n",
       "                              ...                        \n",
       "4617    [Fresh Tomato Salsa, [Rice, Black Beans, Sour ...\n",
       "4618    [Fresh Tomato Salsa, [Rice, Sour Cream, Cheese...\n",
       "4619    [Fresh Tomato Salsa, [Fajita Vegetables, Pinto...\n",
       "4620    [Fresh Tomato Salsa, [Fajita Vegetables, Lettu...\n",
       "4621    [Fresh Tomato Salsa, [Fajita Vegetables, Pinto...\n",
       "Name: choice_description, Length: 4622, dtype: object"
      ]
     },
     "execution_count": 33,
     "metadata": {},
     "output_type": "execute_result"
    }
   ],
   "execution_count": 33
  }
 ],
 "metadata": {
  "kernelspec": {
   "display_name": "Python 3",
   "language": "python",
   "name": "python3"
  },
  "language_info": {
   "codemirror_mode": {
    "name": "ipython",
    "version": 2
   },
   "file_extension": ".py",
   "mimetype": "text/x-python",
   "name": "python",
   "nbconvert_exporter": "python",
   "pygments_lexer": "ipython2",
   "version": "2.7.6"
  }
 },
 "nbformat": 4,
 "nbformat_minor": 5
}
