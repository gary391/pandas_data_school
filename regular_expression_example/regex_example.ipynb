{
 "cells": [
  {
   "metadata": {},
   "cell_type": "markdown",
   "source": [
    "Regular expression \n",
    "\n"
   ],
   "id": "69741a93f4805798"
  },
  {
   "metadata": {
    "ExecuteTime": {
     "end_time": "2024-10-28T05:52:59.161570Z",
     "start_time": "2024-10-28T05:52:59.152268Z"
    }
   },
   "cell_type": "code",
   "source": [
    "import re\n",
    "\n",
    "# Define the pattern to capture only the two-digit part\n",
    "pattern = r'(?:-|\\b)(\\d{2})\\.\\d{3}$'\n",
    "\n",
    "# Sample list of strings to test\n",
    "strings = [\n",
    "    \"XXX12-03.102\",\n",
    "    \"XXX12-Abc-15.102\",\n",
    "    \"Prefix-99.102\",\n",
    "    \"SomeOtherText-77.103\",\n",
    "    \"SampleText-88.102\"\n",
    "]\n",
    "\n",
    "# Extract the two-digit numbers directly\n",
    "for text in strings:\n",
    "    matches = re.findall(pattern, text) #Print a list of all matches:\n",
    "    if matches:\n",
    "        # re.findall() directly returns the matched group as a list of strings\n",
    "        print(f\"Found two-digit number(s): {matches[0]} in '{text}'\")\n",
    "    else:\n",
    "        print(f\"No match in '{text}'\")"
   ],
   "id": "e75ee2a30a4d50e6",
   "outputs": [
    {
     "name": "stdout",
     "output_type": "stream",
     "text": [
      "Found two-digit number(s): 03 in 'XXX12-03.102'\n",
      "Found two-digit number(s): 15 in 'XXX12-Abc-15.102'\n",
      "Found two-digit number(s): 99 in 'Prefix-99.102'\n",
      "Found two-digit number(s): 77 in 'SomeOtherText-77.103'\n",
      "Found two-digit number(s): 88 in 'SampleText-88.102'\n"
     ]
    }
   ],
   "execution_count": 3
  },
  {
   "metadata": {},
   "cell_type": "code",
   "outputs": [],
   "execution_count": null,
   "source": "",
   "id": "8e7de967f991f2fa"
  }
 ],
 "metadata": {
  "kernelspec": {
   "display_name": "Python 3",
   "language": "python",
   "name": "python3"
  },
  "language_info": {
   "codemirror_mode": {
    "name": "ipython",
    "version": 2
   },
   "file_extension": ".py",
   "mimetype": "text/x-python",
   "name": "python",
   "nbconvert_exporter": "python",
   "pygments_lexer": "ipython2",
   "version": "2.7.6"
  }
 },
 "nbformat": 4,
 "nbformat_minor": 5
}
